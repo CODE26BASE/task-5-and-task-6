{
 "cells": [
  {
   "cell_type": "code",
   "execution_count": 1,
   "id": "830608a4-fed4-4a64-b2f0-b59c9fb399b5",
   "metadata": {
    "jupyter": {
     "source_hidden": true
    }
   },
   "outputs": [],
   "source": [
    "import requests\n",
    "from bs4 import BeautifulSoup"
   ]
  },
  {
   "cell_type": "code",
   "execution_count": 2,
   "id": "f0f09669-9d77-4850-a6a2-ba304b311373",
   "metadata": {},
   "outputs": [
    {
     "name": "stdout",
     "output_type": "stream",
     "text": [
      "{'title': 'A Light in the Attic', 'price': 'Â£51.77'}\n",
      "{'title': 'Tipping the Velvet', 'price': 'Â£53.74'}\n",
      "{'title': 'Soumission', 'price': 'Â£50.10'}\n",
      "{'title': 'Sharp Objects', 'price': 'Â£47.82'}\n",
      "{'title': 'Sapiens: A Brief History of Humankind', 'price': 'Â£54.23'}\n",
      "{'title': 'The Requiem Red', 'price': 'Â£22.65'}\n",
      "{'title': 'The Dirty Little Secrets of Getting Your Dream Job', 'price': 'Â£33.34'}\n",
      "{'title': 'The Coming Woman: A Novel Based on the Life of the Infamous Feminist, Victoria Woodhull', 'price': 'Â£17.93'}\n",
      "{'title': 'The Boys in the Boat: Nine Americans and Their Epic Quest for Gold at the 1936 Berlin Olympics', 'price': 'Â£22.60'}\n",
      "{'title': 'The Black Maria', 'price': 'Â£52.15'}\n",
      "{'title': 'Starving Hearts (Triangular Trade Trilogy, #1)', 'price': 'Â£13.99'}\n",
      "{'title': \"Shakespeare's Sonnets\", 'price': 'Â£20.66'}\n",
      "{'title': 'Set Me Free', 'price': 'Â£17.46'}\n",
      "{'title': \"Scott Pilgrim's Precious Little Life (Scott Pilgrim #1)\", 'price': 'Â£52.29'}\n",
      "{'title': 'Rip it Up and Start Again', 'price': 'Â£35.02'}\n",
      "{'title': 'Our Band Could Be Your Life: Scenes from the American Indie Underground, 1981-1991', 'price': 'Â£57.25'}\n",
      "{'title': 'Olio', 'price': 'Â£23.88'}\n",
      "{'title': 'Mesaerion: The Best Science Fiction Stories 1800-1849', 'price': 'Â£37.59'}\n",
      "{'title': 'Libertarianism for Beginners', 'price': 'Â£51.33'}\n",
      "{'title': \"It's Only the Himalayas\", 'price': 'Â£45.17'}\n",
      "{'title': 'In Her Wake', 'price': 'Â£12.84'}\n",
      "{'title': 'How Music Works', 'price': 'Â£37.32'}\n",
      "{'title': 'Foolproof Preserving: A Guide to Small Batch Jams, Jellies, Pickles, Condiments, and More: A Foolproof Guide to Making Small Batch Jams, Jellies, Pickles, Condiments, and More', 'price': 'Â£30.52'}\n",
      "{'title': 'Chase Me (Paris Nights #2)', 'price': 'Â£25.27'}\n",
      "{'title': 'Black Dust', 'price': 'Â£34.53'}\n",
      "{'title': 'Birdsong: A Story in Pictures', 'price': 'Â£54.64'}\n",
      "{'title': \"America's Cradle of Quarterbacks: Western Pennsylvania's Football Factory from Johnny Unitas to Joe Montana\", 'price': 'Â£22.50'}\n",
      "{'title': 'Aladdin and His Wonderful Lamp', 'price': 'Â£53.13'}\n",
      "{'title': 'Worlds Elsewhere: Journeys Around Shakespeareâ\\x80\\x99s Globe', 'price': 'Â£40.30'}\n",
      "{'title': 'Wall and Piece', 'price': 'Â£44.18'}\n",
      "{'title': 'The Four Agreements: A Practical Guide to Personal Freedom', 'price': 'Â£17.66'}\n",
      "{'title': 'The Five Love Languages: How to Express Heartfelt Commitment to Your Mate', 'price': 'Â£31.05'}\n",
      "{'title': 'The Elephant Tree', 'price': 'Â£23.82'}\n",
      "{'title': 'The Bear and the Piano', 'price': 'Â£36.89'}\n",
      "{'title': \"Sophie's World\", 'price': 'Â£15.94'}\n",
      "{'title': 'Penny Maybe', 'price': 'Â£33.29'}\n",
      "{'title': 'Maude (1883-1993):She Grew Up with the country', 'price': 'Â£18.02'}\n",
      "{'title': 'In a Dark, Dark Wood', 'price': 'Â£19.63'}\n",
      "{'title': 'Behind Closed Doors', 'price': 'Â£52.22'}\n",
      "{'title': \"You can't bury them all: Poems\", 'price': 'Â£33.63'}\n"
     ]
    }
   ],
   "source": [
    "base_url = \"http://books.toscrape.com/catalogue/page-{}.html\"\n",
    "books_data = []\n",
    "\n",
    "for page in range(1, 3):\n",
    "    url = base_url.format(page)\n",
    "    response = requests.get(url)\n",
    "    response.raise_for_status()\n",
    "\n",
    "    soup = BeautifulSoup(response.text, \"html.parser\")\n",
    "    articles = soup.find_all(\"article\", class_=\"product_pod\")\n",
    "\n",
    "    for article in articles:\n",
    "        title = article.h3.a[\"title\"].strip()\n",
    "        price = article.find(\"p\", class_=\"price_color\").text.strip()\n",
    "        books_data.append({\"title\": title, \"price\": price})\n",
    "\n",
    "for book in books_data:\n",
    "    print(book)"
   ]
  },
  {
   "cell_type": "code",
   "execution_count": 12,
   "id": "1243a019-55f7-47e0-a210-14349fa143ee",
   "metadata": {},
   "outputs": [
    {
     "name": "stdout",
     "output_type": "stream",
     "text": [
      "City            Description          Temperature\n",
      "--------------------------------------------------\n",
      "New York        Partly cloudy        24 °C / 76 °F\n",
      "London          Partly cloudy        26 °C / 79 °F\n",
      "Tokyo           Clear                26 °C / 79 °F\n",
      "Sydney          Partly cloudy        12 °C / 54 °F\n",
      "Pune            Patchy rain nearby   22 °C / 72 °F\n"
     ]
    }
   ],
   "source": [
    "import requests\n",
    "import urllib.parse\n",
    "\n",
    "def fetch_weather(city):\n",
    "    city_encoded = urllib.parse.quote(city)\n",
    "    url = f\"https://wttr.in/{city_encoded}?format=j1\"\n",
    "    resp = requests.get(url)\n",
    "    resp.raise_for_status()\n",
    "    data = resp.json()\n",
    "    condition = data[\"current_condition\"][0]\n",
    "    return {\n",
    "        \"City\": city,\n",
    "        \"Description\": condition[\"weatherDesc\"][0][\"value\"],\n",
    "        \"Temperature\": f\"{condition['temp_C']} °C / {condition['temp_F']} °F\"\n",
    "    }\n",
    "\n",
    "cities = [\"New York\", \"London\", \"Tokyo\", \"Sydney\", \"Pune\"]\n",
    "results = [fetch_weather(city) for city in cities]\n",
    "\n",
    "print(f\"{'City':<15} {'Description':<20} {'Temperature'}\")\n",
    "print(\"-\" * 50)\n",
    "for r in results:\n",
    "    print(f\"{r['City']:<15} {r['Description']:<20} {r['Temperature']}\")\n"
   ]
  },
  {
   "cell_type": "code",
   "execution_count": 14,
   "id": "351bc8af-f3e9-48c1-847d-d6d07b40831c",
   "metadata": {},
   "outputs": [
    {
     "name": "stdout",
     "output_type": "stream",
     "text": [
      "[OK] Wrote 100 rows to fake_jobs.csv\n"
     ]
    }
   ],
   "source": [
    "import csv\n",
    "import requests\n",
    "from bs4 import BeautifulSoup\n",
    "\n",
    "url = \"https://realpython.github.io/fake-jobs/\"\n",
    "response = requests.get(url, headers={\"User-Agent\": \"Mozilla/5.0\"})\n",
    "response.raise_for_status()\n",
    "\n",
    "soup = BeautifulSoup(response.text, \"html.parser\")\n",
    "jobs = []\n",
    "\n",
    "for card in soup.select(\"div.card-content\"):\n",
    "    title = card.select_one(\"h2.title\").get_text(strip=True)\n",
    "    company = card.select_one(\"h3.subtitle\").get_text(strip=True)\n",
    "    location = card.select_one(\"p.location\").get_text(strip=True)\n",
    "    jobs.append({\"title\": title, \"company\": company, \"location\": location})\n",
    "\n",
    "with open(\"fake_jobs.csv\", \"w\", newline=\"\", encoding=\"utf-8\") as f:\n",
    "    writer = csv.DictWriter(f, fieldnames=[\"title\", \"company\", \"location\"])\n",
    "    writer.writeheader()\n",
    "    writer.writerows(jobs)\n",
    "\n",
    "print(f\"[OK] Wrote {len(jobs)} rows to fake_jobs.csv\")\n"
   ]
  },
  {
   "cell_type": "code",
   "execution_count": null,
   "id": "b2143b7c-b45c-4af4-b98a-70eed061000b",
   "metadata": {},
   "outputs": [],
   "source": []
  }
 ],
 "metadata": {
  "kernelspec": {
   "display_name": "Python [conda env:base] *",
   "language": "python",
   "name": "conda-base-py"
  },
  "language_info": {
   "codemirror_mode": {
    "name": "ipython",
    "version": 3
   },
   "file_extension": ".py",
   "mimetype": "text/x-python",
   "name": "python",
   "nbconvert_exporter": "python",
   "pygments_lexer": "ipython3",
   "version": "3.13.5"
  }
 },
 "nbformat": 4,
 "nbformat_minor": 5
}
